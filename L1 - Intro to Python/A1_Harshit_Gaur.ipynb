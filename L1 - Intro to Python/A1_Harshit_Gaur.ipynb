{
 "cells": [
  {
   "cell_type": "markdown",
   "metadata": {},
   "source": [
    "# Week 1 Assignment - 2021 FallA\n",
    "\n",
    "* Download the \"A1_2021FallA.ipynb\" notebook \n",
    "* Fill in the code in the cells marked with `# YOUR ANSWER HERE:` by answering the question/task defined in the cell above it starting with `GRADED:`\n",
    "* `VERY IMPORTANT`: Code cells outside of `# YOUR ANSWER HERE:` will not be considered for grading. \n",
    "  * Feel free to write outside of it for debugging\n",
    "* `DO NOT` fill your asnwers with many `print` statements. Only use `print` if the assignment asked explcitly. For example, if you are asked to write a function to calculate the sum of two numbers--the function should return that value, `NOT` a `print` statement of the value.\n",
    "* Submit the updated notebook\n",
    "  * Make sure to save your changes before submitting it!"
   ]
  },
  {
   "cell_type": "code",
   "execution_count": 40,
   "metadata": {},
   "outputs": [],
   "source": [
    "#Import necessary libraries\n",
    "import pandas as pd\n",
    "import numpy as np"
   ]
  },
  {
   "cell_type": "markdown",
   "metadata": {},
   "source": [
    "## `GRADED [1]`: Provided below are functions that are:\n",
    "- completely defined: `add_numbers`;\n",
    "- partially defined: `min_square`; _and_\n",
    "- not defined at all: `time_squares`\n",
    "\n",
    " 1. Complete `min_square` so that it returns the minimum of (square root of `a` and square root of `b`)\n",
    " 2. Write a function called `time_squares` that returns the multiplication of the square root of `a` and the square root of `b`.\n",
    " 3. Assume both a and b are positive numbers."
   ]
  },
  {
   "cell_type": "code",
   "execution_count": 41,
   "metadata": {},
   "outputs": [],
   "source": [
    "# [1] YOUR ANSWER HERE:\n",
    "\n",
    "def time_squares(a, b):\n",
    "    result = np.sqrt(a) * np.sqrt(b)\n",
    "    return result\n",
    "\n",
    "def add_numbers(x, y):\n",
    "    result = x + y\n",
    "    return result\n",
    "\n",
    "def min_square(a, b):\n",
    "    # Write code to return the lower of (minimum of) square root of a and square root of b\n",
    "    sqrt_a = np.sqrt(a)\n",
    "    sqrt_b = np.sqrt(b)\n",
    "    result = sqrt_a if sqrt_a < sqrt_b else sqrt_b # Replace None with your code\n",
    "    return result\n"
   ]
  },
  {
   "cell_type": "markdown",
   "metadata": {},
   "source": [
    "## `GRADED [2]`: \n",
    "Write a function called `personal_info` that takes a a last name, age, and a home town (a total of 3 arguments) and returns a full sentence string with the following content and format: `Your last name is [name], you are [age] years old, and you live in [city].`--where the values in square brackets are the actual values of the three arguments provided by the function. \n",
    "\n",
    "- Please make sure that you follow the format and grammar of the sentence exactly as defined and that you use `f-string` Python string formatting--any other type of formatting will receive reduced points.\n",
    "\n",
    "- Please properly __capitalize__ the city name\n",
    "\n",
    "`Hint`: Your string shold follow the Python f-strings formatting functionality. https://realpython.com/python-f-strings/"
   ]
  },
  {
   "cell_type": "code",
   "execution_count": 42,
   "metadata": {},
   "outputs": [],
   "source": [
    "# [2] YOUR ANSER HERE\n",
    "\n",
    "def personal_info(name, age, city):\n",
    "    return f\"Your last name is {name}, you are {age} years old, and you live in {city.capitalize()}\""
   ]
  },
  {
   "cell_type": "code",
   "execution_count": 43,
   "metadata": {},
   "outputs": [
    {
     "data": {
      "text/plain": [
       "'Your last name is Smith, you are 30 years old, and you live in Boston'"
      ]
     },
     "execution_count": 43,
     "metadata": {},
     "output_type": "execute_result"
    }
   ],
   "source": [
    "personal_info('Smith', 30, 'boston')  # please do not modify this cell"
   ]
  },
  {
   "cell_type": "markdown",
   "metadata": {},
   "source": [
    "## `GRADED [3]`: \n",
    "Using a `while` loop: loop over every sequential _odd_ number between `2` and `29` (__`inclusive`__); in the same `while` loop print __`only`__ every 3rd sequential of those odd numnbers you have encountered in the loop."
   ]
  },
  {
   "cell_type": "code",
   "execution_count": 44,
   "metadata": {},
   "outputs": [
    {
     "name": "stdout",
     "output_type": "stream",
     "text": [
      "7\n",
      "13\n",
      "19\n",
      "25\n"
     ]
    }
   ],
   "source": [
    "# [3] YOUR ANSER HERE:\n",
    "number = 2\n",
    "counter = 1\n",
    "while number <= 29:\n",
    "    if number%2 == 0: number += 1\n",
    "    if counter%3 == 0: print(number)\n",
    "    number += 2\n",
    "    counter += 1"
   ]
  },
  {
   "cell_type": "markdown",
   "metadata": {},
   "source": [
    "## `GRADED [4]`: \n",
    "Define a function called `length_converter` that takes as an argument a length in `meters` and __prints__ the equivalent distance in `miles` using the following sentence: `Original length was [..] meters, which equals [..] miles.`\n",
    "\n",
    "Please round your result to __2 decimal places__."
   ]
  },
  {
   "cell_type": "code",
   "execution_count": 45,
   "metadata": {},
   "outputs": [],
   "source": [
    "# [4] YOUR ANSWER HERE:\n",
    "\n",
    "def length_converter(meters):\n",
    "    miles = round((meters / 1609.344), 2)\n",
    "    print(f\"Original length was {meters} meters, which equals {miles} miles.\")"
   ]
  },
  {
   "cell_type": "code",
   "execution_count": 46,
   "metadata": {},
   "outputs": [
    {
     "name": "stdout",
     "output_type": "stream",
     "text": [
      "Original length was 5000 meters, which equals 3.11 miles.\n"
     ]
    }
   ],
   "source": [
    "length_converter(5000)  # please do not modify this cell"
   ]
  },
  {
   "cell_type": "markdown",
   "metadata": {},
   "source": [
    "## `GRADED [5]`: \n",
    "Given the following dictionary, please write code to calcuate the __median__ and __standard deviation__ of annual salary for those CEOs."
   ]
  },
  {
   "cell_type": "code",
   "execution_count": 47,
   "metadata": {},
   "outputs": [],
   "source": [
    "company_dict = {\n",
    "    'Satya Nadella': ['Microsoft', '$42,910,215'],\n",
    "    'Mark Zuckerberg': ['Facebook', '$1'],\n",
    "    'Jeff Bezos': ['Amazon', '$81,840'],\n",
    "    'Tim Cook': ['Apple', '$3,000,000']    \n",
    "} "
   ]
  },
  {
   "cell_type": "code",
   "execution_count": 48,
   "metadata": {},
   "outputs": [
    {
     "data": {
      "text/plain": [
       "'Median : 1540920.0 && Standard Deviation : 18176055.301928427'"
      ]
     },
     "execution_count": 48,
     "metadata": {},
     "output_type": "execute_result"
    }
   ],
   "source": [
    "# [5] YOUR ANSWER HERE:\n",
    "\n",
    "def calculate_stats():\n",
    "    salary_list = [ int( y[1].replace(',', '').replace('$', '') ) for x,y in company_dict.items() ]\n",
    "    median = np.median(salary_list)\n",
    "    standard_deviation = np.std(salary_list)\n",
    "    return f\"Median : {median} && Standard Deviation : {standard_deviation}\"\n",
    "\n",
    "calculate_stats()"
   ]
  },
  {
   "cell_type": "code",
   "execution_count": null,
   "metadata": {},
   "outputs": [],
   "source": []
  }
 ],
 "metadata": {
  "kernelspec": {
   "display_name": "Python 3 (ipykernel)",
   "language": "python",
   "name": "python3"
  },
  "language_info": {
   "codemirror_mode": {
    "name": "ipython",
    "version": 3
   },
   "file_extension": ".py",
   "mimetype": "text/x-python",
   "name": "python",
   "nbconvert_exporter": "python",
   "pygments_lexer": "ipython3",
   "version": "3.8.11"
  }
 },
 "nbformat": 4,
 "nbformat_minor": 4
}
